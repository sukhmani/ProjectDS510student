{
 "cells": [
  {
   "cell_type": "markdown",
   "id": "1b83153f",
   "metadata": {},
   "source": [
    "#  Predicting Student Performance Using Supervised Learning\n",
    "\n",
    "**Jheyne de Oliveira Panta Cardeiro, Puqi Liu, Sukhmani Thukral**  \n",
    "_CS 510: Artificial Intelligence for Data Science, MSCS, City University of Seattle_  \n",
    "deoliveirapantacord@cityuniversity.edu, liupuqi@cityuniversity.edu, thukralsukhmani@cityuniversity.edu  \n",
    "\n",
    "---\n",
    "\n",
    "##  Abstract\n",
    "\n",
    "In this project, we use supervised machine learning [2] to predict student grades based on demographic and behavioral features. Using the Student Performance dataset from the UCI Repository [1], we apply classification and regression models to predict whether a student will pass or fail and estimate their exam scores. Feature variables include age, gender, parental education, study time, past grades, and internet accessibility.\n",
    "\n",
    "We preprocessed the data by handling missing values, encoding categorical variables, and performing feature scaling. For classification, we used **Logistic Regression** and **Decision Trees**. For regression tasks, we applied **Linear Regression** and **Random Forest Regressors**. Model performance was evaluated using **accuracy** and **F1 score** for classification, and **RMSE** for regression.\n",
    "\n",
    "This project demonstrates how machine learning [3] can be applied in educational settings to identify students who may benefit from additional academic support.\n",
    "\n",
    "---\n",
    "\n",
    "**Keywords:** Classification, Logistic Regression, Categorical Encoding, Random Forest Regressors, Decision Trees\n"
   ]
  },
  {
   "cell_type": "markdown",
   "id": "d538b1ce",
   "metadata": {},
   "source": [
    "##  Literature Review\n",
    "\n",
    "Machine learning techniques have been widely applied to predict student academic performance using educational datasets that include demographic, social, and behavioral features. Selecting the appropriate algorithms is crucial for both classification tasks (e.g., predicting pass/fail) and regression [8] tasks (e.g., predicting final grades).\n",
    "\n",
    "Logistic Regression has been commonly used in educational research due to its simplicity, interpretability, and effectiveness in binary classification tasks. For instance, Kotsiantis (2012) showed that logistic regression performed well when predicting student dropout rates, especially when the data was linearly separable and well-preprocessed. In our project, we use logistic regression to classify students as pass or fail, based on a set of input features such as study time, previous grades, and internet access[9].\n",
    "\n",
    "Decision Trees are favored for their interpretability and ability to model non-linear relationships. They are particularly effective when working with categorical and mixed-type data (Han et al., 2011). Studies by Cortez and Silva (2008), who originally introduced the UCI Student Performance dataset, demonstrated that decision trees provided competitive performance when predicting student grades. Given their transparency and ability to reveal important decision paths (e.g., thresholds for study time or parental education), decision trees [10] were selected as a complementary classification technique in this project.\n",
    "\n",
    "For predicting numerical grades (regression task), Linear Regression remains a widely used baseline model due to its mathematical simplicity and explainability. Research by Asif et al. (2017) used linear regression to predict semester GPA and found it effective when the relationship between input variables and outcome was approximately linear. In this project, we apply linear regression to estimate students’ final exam scores using continuous variables like G1 and G2 (previous grades).\n",
    "\n",
    "To address the limitations of linear models and improve accuracy, ensemble methods like Random Forests have been successfully used in education-related studies (Al-Barrak & Al-Razgan, 2016). Random Forest Regressors [11] can capture complex interactions and reduce overfitting through averaging. They have shown robust performance in previous works predicting academic success based on multiple weak signals (Kumar & Pal, 2011). Therefore, we employ Random Forest Regression to build a more flexible and powerful model for grade prediction.\n",
    "\n",
    "In summary, the chosen models reflect a balance between interpretability and predictive power. Logistic Regression and Decision Trees offer transparency and clarity for educators, while Random Forests and Linear Regression provide a solid foundation for accurate grade estimation.\n",
    "\n",
    "\n",
    "\n"
   ]
  },
  {
   "cell_type": "markdown",
   "id": "efe6711f",
   "metadata": {},
   "source": [
    "## Methodology\n",
    "\n",
    "We began by collecting data from the UCI Student Performance dataset, which was loaded into a pandas DataFrame. This dataset serves as the foundation for predicting student grade outcomes. To understand the data, we performed exploratory data analysis (EDA) by previewing the dataset with `.head()`, checking data types and missing values using `.info()`, and summarizing numerical features with `.describe()`. This helped us assess data quality and identify potential issues early.\n",
    "\n",
    "Next, we inspected the dataset for missing values using `.isnull().sum()` to ensure data completeness and determine whether imputation or cleaning was necessary. Since machine learning models require numerical inputs, we encoded categorical features using two approaches: label encoding for binary variables such as gender and internet access, and one-hot encoding (via `pd.get_dummies`) for multi-class categorical variables like parental jobs, reasons for school choice, and guardianship. Following this, we applied feature scaling using `StandardScaler` to normalize numerical features such as age, study time, and past scores. This step was crucial for algorithms sensitive to feature magnitude, like logistic regression.\n",
    "\n",
    "After preprocessing, we split the dataset into features (`X`) and target (`y`) and then divided it into training and testing sets using an 80/20 ratio with a fixed random state for reproducibility. For model training, we used logistic regression and decision tree classifiers for the classification task of predicting pass/fail outcomes, and linear regression along with random forest regressors for predicting final exam scores as a regression task. This combination allowed us to compare linear and non-linear approaches in both predictive contexts.\n",
    "\n",
    "Model evaluation followed, where we used accuracy and F1 score for classification performance, considering the appropriate averaging strategies for multi-class data. We also used the confusion matrix to better understand model behavior per class. For regression tasks, we evaluated performance using Root Mean Squared Error (RMSE) to quantify prediction deviation. A comparative analysis was conducted by reviewing the results of all models side-by-side. Where possible, confusion matrices and residual plots were used to visually support performance insights.\n",
    "\n",
    "Finally, we interpreted the results in an educational context, highlighting key features influencing performance such as past grades and study time. We discussed how models could identify at-risk students and help educators intervene earlier. Potential enhancements include hyperparameter tuning through grid or random search, visualization of feature importance from tree-based models, and additional evaluation plots like ROC curves and residual distributions. These improvements aim to increase the robustness and practical impact of our analysis.\n"
   ]
  },
  {
   "cell_type": "markdown",
   "id": "bef1705d",
   "metadata": {},
   "source": [
    "## 1. Data Collection\n",
    "\n",
    "### a) Load the dataset: We start by loading the student performance dataset which is separated by semicolons."
   ]
  },
  {
   "cell_type": "code",
   "execution_count": 1,
   "id": "336c8564",
   "metadata": {},
   "outputs": [],
   "source": [
    "\n",
    "import pandas as pd\n",
    "\n",
    "df = pd.read_csv('student-mat.csv', sep=';')"
   ]
  },
  {
   "cell_type": "markdown",
   "id": "5ac0dbf1",
   "metadata": {},
   "source": [
    "Loads the student performance dataset from UCI.\n",
    "\n",
    "Each row represents a student, with features like demographics, family background, and school support."
   ]
  },
  {
   "cell_type": "markdown",
   "id": "2cd3cd14",
   "metadata": {},
   "source": [
    "### b) Explore the dataset\n",
    "\n",
    "Let's take a look at the first 5 rows, get basic info about the columns and their data types, and see some summary statistics.\n"
   ]
  },
  {
   "cell_type": "code",
   "execution_count": 2,
   "id": "5dd07d0d",
   "metadata": {},
   "outputs": [
    {
     "name": "stdout",
     "output_type": "stream",
     "text": [
      "<class 'pandas.core.frame.DataFrame'>\n",
      "RangeIndex: 395 entries, 0 to 394\n",
      "Data columns (total 33 columns):\n",
      " #   Column      Non-Null Count  Dtype \n",
      "---  ------      --------------  ----- \n",
      " 0   school      395 non-null    object\n",
      " 1   sex         395 non-null    object\n",
      " 2   age         395 non-null    int64 \n",
      " 3   address     395 non-null    object\n",
      " 4   famsize     395 non-null    object\n",
      " 5   Pstatus     395 non-null    object\n",
      " 6   Medu        395 non-null    int64 \n",
      " 7   Fedu        395 non-null    int64 \n",
      " 8   Mjob        395 non-null    object\n",
      " 9   Fjob        395 non-null    object\n",
      " 10  reason      395 non-null    object\n",
      " 11  guardian    395 non-null    object\n",
      " 12  traveltime  395 non-null    int64 \n",
      " 13  studytime   395 non-null    int64 \n",
      " 14  failures    395 non-null    int64 \n",
      " 15  schoolsup   395 non-null    object\n",
      " 16  famsup      395 non-null    object\n",
      " 17  paid        395 non-null    object\n",
      " 18  activities  395 non-null    object\n",
      " 19  nursery     395 non-null    object\n",
      " 20  higher      395 non-null    object\n",
      " 21  internet    395 non-null    object\n",
      " 22  romantic    395 non-null    object\n",
      " 23  famrel      395 non-null    int64 \n",
      " 24  freetime    395 non-null    int64 \n",
      " 25  goout       395 non-null    int64 \n",
      " 26  Dalc        395 non-null    int64 \n",
      " 27  Walc        395 non-null    int64 \n",
      " 28  health      395 non-null    int64 \n",
      " 29  absences    395 non-null    int64 \n",
      " 30  G1          395 non-null    int64 \n",
      " 31  G2          395 non-null    int64 \n",
      " 32  G3          395 non-null    int64 \n",
      "dtypes: int64(16), object(17)\n",
      "memory usage: 102.0+ KB\n"
     ]
    },
    {
     "data": {
      "text/html": [
       "<div>\n",
       "<style scoped>\n",
       "    .dataframe tbody tr th:only-of-type {\n",
       "        vertical-align: middle;\n",
       "    }\n",
       "\n",
       "    .dataframe tbody tr th {\n",
       "        vertical-align: top;\n",
       "    }\n",
       "\n",
       "    .dataframe thead th {\n",
       "        text-align: right;\n",
       "    }\n",
       "</style>\n",
       "<table border=\"1\" class=\"dataframe\">\n",
       "  <thead>\n",
       "    <tr style=\"text-align: right;\">\n",
       "      <th></th>\n",
       "      <th>age</th>\n",
       "      <th>Medu</th>\n",
       "      <th>Fedu</th>\n",
       "      <th>traveltime</th>\n",
       "      <th>studytime</th>\n",
       "      <th>failures</th>\n",
       "      <th>famrel</th>\n",
       "      <th>freetime</th>\n",
       "      <th>goout</th>\n",
       "      <th>Dalc</th>\n",
       "      <th>Walc</th>\n",
       "      <th>health</th>\n",
       "      <th>absences</th>\n",
       "      <th>G1</th>\n",
       "      <th>G2</th>\n",
       "      <th>G3</th>\n",
       "    </tr>\n",
       "  </thead>\n",
       "  <tbody>\n",
       "    <tr>\n",
       "      <th>count</th>\n",
       "      <td>395.000000</td>\n",
       "      <td>395.000000</td>\n",
       "      <td>395.000000</td>\n",
       "      <td>395.000000</td>\n",
       "      <td>395.000000</td>\n",
       "      <td>395.000000</td>\n",
       "      <td>395.000000</td>\n",
       "      <td>395.000000</td>\n",
       "      <td>395.000000</td>\n",
       "      <td>395.000000</td>\n",
       "      <td>395.000000</td>\n",
       "      <td>395.000000</td>\n",
       "      <td>395.000000</td>\n",
       "      <td>395.000000</td>\n",
       "      <td>395.000000</td>\n",
       "      <td>395.000000</td>\n",
       "    </tr>\n",
       "    <tr>\n",
       "      <th>mean</th>\n",
       "      <td>16.696203</td>\n",
       "      <td>2.749367</td>\n",
       "      <td>2.521519</td>\n",
       "      <td>1.448101</td>\n",
       "      <td>2.035443</td>\n",
       "      <td>0.334177</td>\n",
       "      <td>3.944304</td>\n",
       "      <td>3.235443</td>\n",
       "      <td>3.108861</td>\n",
       "      <td>1.481013</td>\n",
       "      <td>2.291139</td>\n",
       "      <td>3.554430</td>\n",
       "      <td>5.708861</td>\n",
       "      <td>10.908861</td>\n",
       "      <td>10.713924</td>\n",
       "      <td>10.415190</td>\n",
       "    </tr>\n",
       "    <tr>\n",
       "      <th>std</th>\n",
       "      <td>1.276043</td>\n",
       "      <td>1.094735</td>\n",
       "      <td>1.088201</td>\n",
       "      <td>0.697505</td>\n",
       "      <td>0.839240</td>\n",
       "      <td>0.743651</td>\n",
       "      <td>0.896659</td>\n",
       "      <td>0.998862</td>\n",
       "      <td>1.113278</td>\n",
       "      <td>0.890741</td>\n",
       "      <td>1.287897</td>\n",
       "      <td>1.390303</td>\n",
       "      <td>8.003096</td>\n",
       "      <td>3.319195</td>\n",
       "      <td>3.761505</td>\n",
       "      <td>4.581443</td>\n",
       "    </tr>\n",
       "    <tr>\n",
       "      <th>min</th>\n",
       "      <td>15.000000</td>\n",
       "      <td>0.000000</td>\n",
       "      <td>0.000000</td>\n",
       "      <td>1.000000</td>\n",
       "      <td>1.000000</td>\n",
       "      <td>0.000000</td>\n",
       "      <td>1.000000</td>\n",
       "      <td>1.000000</td>\n",
       "      <td>1.000000</td>\n",
       "      <td>1.000000</td>\n",
       "      <td>1.000000</td>\n",
       "      <td>1.000000</td>\n",
       "      <td>0.000000</td>\n",
       "      <td>3.000000</td>\n",
       "      <td>0.000000</td>\n",
       "      <td>0.000000</td>\n",
       "    </tr>\n",
       "    <tr>\n",
       "      <th>25%</th>\n",
       "      <td>16.000000</td>\n",
       "      <td>2.000000</td>\n",
       "      <td>2.000000</td>\n",
       "      <td>1.000000</td>\n",
       "      <td>1.000000</td>\n",
       "      <td>0.000000</td>\n",
       "      <td>4.000000</td>\n",
       "      <td>3.000000</td>\n",
       "      <td>2.000000</td>\n",
       "      <td>1.000000</td>\n",
       "      <td>1.000000</td>\n",
       "      <td>3.000000</td>\n",
       "      <td>0.000000</td>\n",
       "      <td>8.000000</td>\n",
       "      <td>9.000000</td>\n",
       "      <td>8.000000</td>\n",
       "    </tr>\n",
       "    <tr>\n",
       "      <th>50%</th>\n",
       "      <td>17.000000</td>\n",
       "      <td>3.000000</td>\n",
       "      <td>2.000000</td>\n",
       "      <td>1.000000</td>\n",
       "      <td>2.000000</td>\n",
       "      <td>0.000000</td>\n",
       "      <td>4.000000</td>\n",
       "      <td>3.000000</td>\n",
       "      <td>3.000000</td>\n",
       "      <td>1.000000</td>\n",
       "      <td>2.000000</td>\n",
       "      <td>4.000000</td>\n",
       "      <td>4.000000</td>\n",
       "      <td>11.000000</td>\n",
       "      <td>11.000000</td>\n",
       "      <td>11.000000</td>\n",
       "    </tr>\n",
       "    <tr>\n",
       "      <th>75%</th>\n",
       "      <td>18.000000</td>\n",
       "      <td>4.000000</td>\n",
       "      <td>3.000000</td>\n",
       "      <td>2.000000</td>\n",
       "      <td>2.000000</td>\n",
       "      <td>0.000000</td>\n",
       "      <td>5.000000</td>\n",
       "      <td>4.000000</td>\n",
       "      <td>4.000000</td>\n",
       "      <td>2.000000</td>\n",
       "      <td>3.000000</td>\n",
       "      <td>5.000000</td>\n",
       "      <td>8.000000</td>\n",
       "      <td>13.000000</td>\n",
       "      <td>13.000000</td>\n",
       "      <td>14.000000</td>\n",
       "    </tr>\n",
       "    <tr>\n",
       "      <th>max</th>\n",
       "      <td>22.000000</td>\n",
       "      <td>4.000000</td>\n",
       "      <td>4.000000</td>\n",
       "      <td>4.000000</td>\n",
       "      <td>4.000000</td>\n",
       "      <td>3.000000</td>\n",
       "      <td>5.000000</td>\n",
       "      <td>5.000000</td>\n",
       "      <td>5.000000</td>\n",
       "      <td>5.000000</td>\n",
       "      <td>5.000000</td>\n",
       "      <td>5.000000</td>\n",
       "      <td>75.000000</td>\n",
       "      <td>19.000000</td>\n",
       "      <td>19.000000</td>\n",
       "      <td>20.000000</td>\n",
       "    </tr>\n",
       "  </tbody>\n",
       "</table>\n",
       "</div>"
      ],
      "text/plain": [
       "              age        Medu        Fedu  traveltime   studytime    failures  \\\n",
       "count  395.000000  395.000000  395.000000  395.000000  395.000000  395.000000   \n",
       "mean    16.696203    2.749367    2.521519    1.448101    2.035443    0.334177   \n",
       "std      1.276043    1.094735    1.088201    0.697505    0.839240    0.743651   \n",
       "min     15.000000    0.000000    0.000000    1.000000    1.000000    0.000000   \n",
       "25%     16.000000    2.000000    2.000000    1.000000    1.000000    0.000000   \n",
       "50%     17.000000    3.000000    2.000000    1.000000    2.000000    0.000000   \n",
       "75%     18.000000    4.000000    3.000000    2.000000    2.000000    0.000000   \n",
       "max     22.000000    4.000000    4.000000    4.000000    4.000000    3.000000   \n",
       "\n",
       "           famrel    freetime       goout        Dalc        Walc      health  \\\n",
       "count  395.000000  395.000000  395.000000  395.000000  395.000000  395.000000   \n",
       "mean     3.944304    3.235443    3.108861    1.481013    2.291139    3.554430   \n",
       "std      0.896659    0.998862    1.113278    0.890741    1.287897    1.390303   \n",
       "min      1.000000    1.000000    1.000000    1.000000    1.000000    1.000000   \n",
       "25%      4.000000    3.000000    2.000000    1.000000    1.000000    3.000000   \n",
       "50%      4.000000    3.000000    3.000000    1.000000    2.000000    4.000000   \n",
       "75%      5.000000    4.000000    4.000000    2.000000    3.000000    5.000000   \n",
       "max      5.000000    5.000000    5.000000    5.000000    5.000000    5.000000   \n",
       "\n",
       "         absences          G1          G2          G3  \n",
       "count  395.000000  395.000000  395.000000  395.000000  \n",
       "mean     5.708861   10.908861   10.713924   10.415190  \n",
       "std      8.003096    3.319195    3.761505    4.581443  \n",
       "min      0.000000    3.000000    0.000000    0.000000  \n",
       "25%      0.000000    8.000000    9.000000    8.000000  \n",
       "50%      4.000000   11.000000   11.000000   11.000000  \n",
       "75%      8.000000   13.000000   13.000000   14.000000  \n",
       "max     75.000000   19.000000   19.000000   20.000000  "
      ]
     },
     "execution_count": 2,
     "metadata": {},
     "output_type": "execute_result"
    }
   ],
   "source": [
    "\n",
    "df.head()\n",
    "df.info()\n",
    "df.describe()\n",
    "\n"
   ]
  },
  {
   "cell_type": "code",
   "execution_count": 3,
   "id": "7f4cd6f6",
   "metadata": {},
   "outputs": [
    {
     "name": "stdout",
     "output_type": "stream",
     "text": [
      "['school', 'sex', 'age', 'address', 'famsize', 'Pstatus', 'Medu', 'Fedu', 'Mjob', 'Fjob', 'reason', 'guardian', 'traveltime', 'studytime', 'failures', 'schoolsup', 'famsup', 'paid', 'activities', 'nursery', 'higher', 'internet', 'romantic', 'famrel', 'freetime', 'goout', 'Dalc', 'Walc', 'health', 'absences', 'G1', 'G2', 'G3']\n"
     ]
    }
   ],
   "source": [
    "print(df.columns.tolist())\n"
   ]
  },
  {
   "cell_type": "markdown",
   "id": "fb4ea4a9",
   "metadata": {},
   "source": [
    "### c) Handle Missing Values\n",
    "\n",
    "We first check for any missing values in the dataset. Columns with missing values will be identified, and appropriate strategies will be applied to handle them.\n"
   ]
  },
  {
   "cell_type": "code",
   "execution_count": 4,
   "id": "3574c049",
   "metadata": {},
   "outputs": [
    {
     "name": "stdout",
     "output_type": "stream",
     "text": [
      "school        0\n",
      "sex           0\n",
      "age           0\n",
      "address       0\n",
      "famsize       0\n",
      "Pstatus       0\n",
      "Medu          0\n",
      "Fedu          0\n",
      "Mjob          0\n",
      "Fjob          0\n",
      "reason        0\n",
      "guardian      0\n",
      "traveltime    0\n",
      "studytime     0\n",
      "failures      0\n",
      "schoolsup     0\n",
      "famsup        0\n",
      "paid          0\n",
      "activities    0\n",
      "nursery       0\n",
      "higher        0\n",
      "internet      0\n",
      "romantic      0\n",
      "famrel        0\n",
      "freetime      0\n",
      "goout         0\n",
      "Dalc          0\n",
      "Walc          0\n",
      "health        0\n",
      "absences      0\n",
      "G1            0\n",
      "G2            0\n",
      "G3            0\n",
      "dtype: int64\n"
     ]
    }
   ],
   "source": [
    "# Handle missing values\n",
    "print(df.isnull().sum())\n"
   ]
  },
  {
   "cell_type": "markdown",
   "id": "e5b7fa90",
   "metadata": {},
   "source": [
    "No missing values were detected in the dataset, so no imputation or deletion was necessary during preprocessing."
   ]
  },
  {
   "cell_type": "markdown",
   "id": "a8f53739",
   "metadata": {},
   "source": [
    " Encoding Categorical Variables\n",
    "\n"
   ]
  },
  {
   "cell_type": "code",
   "execution_count": 5,
   "id": "4530b729",
   "metadata": {},
   "outputs": [
    {
     "name": "stdout",
     "output_type": "stream",
     "text": [
      "Index(['school', 'sex', 'address', 'famsize', 'Pstatus', 'Mjob', 'Fjob',\n",
      "       'reason', 'guardian', 'schoolsup', 'famsup', 'paid', 'activities',\n",
      "       'nursery', 'higher', 'internet', 'romantic'],\n",
      "      dtype='object')\n"
     ]
    }
   ],
   "source": [
    "#Identify\n",
    "\n",
    "categorical_cols = df.select_dtypes(include=['object']).columns\n",
    "print(categorical_cols)\n"
   ]
  },
  {
   "cell_type": "markdown",
   "id": "efa3120b",
   "metadata": {},
   "source": [
    "## 2. Data Cleaning & Preprocessing"
   ]
  },
  {
   "cell_type": "code",
   "execution_count": 6,
   "id": "3722f6c8",
   "metadata": {},
   "outputs": [],
   "source": [
    "# Label Encode Binary Categories\n",
    "from sklearn.preprocessing import LabelEncoder\n",
    "\n",
    "le = LabelEncoder()\n",
    "\n",
    "binary_cols = ['school', 'sex', 'address', 'famsize', 'Pstatus',\n",
    "               'schoolsup', 'famsup', 'paid', 'activities',\n",
    "               'nursery', 'higher', 'internet', 'romantic']\n",
    "\n",
    "for col in binary_cols:\n",
    "    df[col] = le.fit_transform(df[col])\n"
   ]
  },
  {
   "cell_type": "markdown",
   "id": "f1aa89b2",
   "metadata": {},
   "source": [
    "Converts binary categorical columns (e.g., sex, school, internet) into numeric values (0 or 1)."
   ]
  },
  {
   "cell_type": "code",
   "execution_count": 7,
   "id": "a799b8f8",
   "metadata": {},
   "outputs": [],
   "source": [
    "# One-Hot Encode Multi-Class Categories\n",
    "multi_cat_cols = ['Mjob', 'Fjob', 'reason', 'guardian']\n",
    "\n",
    "df = pd.get_dummies(df, columns=multi_cat_cols, drop_first=True)\n"
   ]
  },
  {
   "cell_type": "markdown",
   "id": "2b1cc37d",
   "metadata": {},
   "source": [
    "Transforms multi-class categorical features into multiple binary columns to avoid ordinal assumptions."
   ]
  },
  {
   "cell_type": "markdown",
   "id": "7d1edd0d",
   "metadata": {},
   "source": [
    "## 3. Feature Scaling\n",
    "\n",
    "###### StandardScaler to scale numerical features to have mean = 0 and standard deviation = 1."
   ]
  },
  {
   "cell_type": "code",
   "execution_count": 8,
   "id": "b16cf33b",
   "metadata": {},
   "outputs": [],
   "source": [
    "from sklearn.preprocessing import StandardScaler\n",
    "\n",
    "\n",
    "features_to_scale = ['age', 'studytime', 'failures', 'absences', 'G1', 'G2']\n",
    "\n",
    "scaler = StandardScaler()\n",
    "df[features_to_scale] = scaler.fit_transform(df[features_to_scale])\n"
   ]
  },
  {
   "cell_type": "markdown",
   "id": "6a7b8582",
   "metadata": {},
   "source": [
    "### Creating Target Variables\n",
    "\n",
    "###### Defines a binary classification target: whether a student passed (G3 ≥ 10)."
   ]
  },
  {
   "cell_type": "code",
   "execution_count": 9,
   "id": "8bb6490d",
   "metadata": {},
   "outputs": [],
   "source": [
    "# Create binary target: 1 = pass (G3 >= 10), 0 = fail\n",
    "df['pass'] = df['G3'].apply(lambda x: 1 if x >= 10 else 0)\n"
   ]
  },
  {
   "cell_type": "markdown",
   "id": "0f99974e",
   "metadata": {},
   "source": [
    "### Feature Selection\n"
   ]
  },
  {
   "cell_type": "code",
   "execution_count": 10,
   "id": "fb1a12c8",
   "metadata": {},
   "outputs": [],
   "source": [
    "from sklearn.model_selection import train_test_split\n",
    "\n",
    "# Features and target for classification\n",
    "X = df.drop(['G3', 'pass'], axis=1)\n",
    "y = df['pass']  # binary classification target\n",
    "\n",
    "# Split (80% train, 20% test)\n",
    "X_train, X_test, y_train, y_test = train_test_split(X, y, test_size=0.2, random_state=42)\n"
   ]
  },
  {
   "cell_type": "markdown",
   "id": "f1ce87c6",
   "metadata": {},
   "source": [
    "###### Separates features (X) from targets for classification (y_class) and regression (y_reg)."
   ]
  },
  {
   "cell_type": "code",
   "execution_count": 11,
   "id": "cd8fdc32",
   "metadata": {},
   "outputs": [],
   "source": [
    "# Features and target for regression\n",
    "X = df.drop(['G3'], axis=1)\n",
    "y = df['G3']  # regression target\n",
    "\n",
    "# Split\n",
    "X_train, X_test, y_train, y_test = train_test_split(X, y, test_size=0.2, random_state=42)\n"
   ]
  },
  {
   "cell_type": "markdown",
   "id": "39e6edc2",
   "metadata": {},
   "source": [
    "## 4. Modeling"
   ]
  },
  {
   "cell_type": "markdown",
   "id": "2f97b153",
   "metadata": {},
   "source": [
    "#### Classification Models\n",
    "##### Trains Logistic Regression and Decision Tree models to predict pass/fail."
   ]
  },
  {
   "cell_type": "code",
   "execution_count": 12,
   "id": "9155456c",
   "metadata": {},
   "outputs": [],
   "source": [
    "from sklearn.linear_model import LogisticRegression\n",
    "from sklearn.tree import DecisionTreeClassifier\n",
    "from sklearn.metrics import accuracy_score, f1_score\n",
    "\n",
    "log_reg = LogisticRegression(max_iter=500)  # Increase iterations from 100 to 500\n",
    "log_reg.fit(X_train, y_train)\n",
    "y_pred_log = log_reg.predict(X_test)\n",
    "\n",
    "\n",
    "# Decision Tree Classifier\n",
    "tree_clf = DecisionTreeClassifier()\n",
    "tree_clf.fit(X_train, y_train)\n",
    "y_pred_tree = tree_clf.predict(X_test)\n"
   ]
  },
  {
   "cell_type": "markdown",
   "id": "970f5e58",
   "metadata": {},
   "source": [
    "#### Regression Models\n",
    "\n",
    "##### Predicts final grade (G3) using Linear Regression and Random Forest."
   ]
  },
  {
   "cell_type": "code",
   "execution_count": 13,
   "id": "9b0bae73",
   "metadata": {},
   "outputs": [],
   "source": [
    "from sklearn.preprocessing import StandardScaler\n",
    "\n",
    "scaler = StandardScaler()\n",
    "X_train_scaled = scaler.fit_transform(X_train)\n",
    "X_test_scaled = scaler.transform(X_test)\n",
    "\n",
    "log_reg = LogisticRegression(max_iter=500)\n",
    "log_reg.fit(X_train_scaled, y_train)\n",
    "y_pred_log = log_reg.predict(X_test_scaled)\n"
   ]
  },
  {
   "cell_type": "code",
   "execution_count": 25,
   "id": "1622d47b",
   "metadata": {},
   "outputs": [
    {
     "name": "stdout",
     "output_type": "stream",
     "text": [
      "Linear Regression - RMSE: 2.38, R²: 0.72\n",
      "Random Forest Regressor - RMSE: 1.93, R²: 0.82\n"
     ]
    }
   ],
   "source": [
    "#### Regression Models\n",
    "\n",
    "#### We'll predict G3 (final grade) using: LinearRegression and RandomForestRegressor\n",
    "from sklearn.linear_model import LinearRegression\n",
    "from sklearn.ensemble import RandomForestRegressor\n",
    "from sklearn.metrics import mean_squared_error, r2_score\n",
    "import numpy as np\n",
    "\n",
    "# Regression: Predicting G3\n",
    "X = df.drop(['G3', 'pass'], axis=1)\n",
    "y = df['G3']\n",
    "\n",
    "# Split into train/test\n",
    "X_train, X_test, y_train, y_test = train_test_split(X, y, test_size=0.2, random_state=42)\n",
    "\n",
    "# --- Linear Regression ---\n",
    "lr_model = LinearRegression()\n",
    "lr_model.fit(X_train, y_train)\n",
    "y_pred_lr = lr_model.predict(X_test)\n",
    "\n",
    "# --- Random Forest Regressor ---\n",
    "rf_model = RandomForestRegressor(n_estimators=100, random_state=42)\n",
    "rf_model.fit(X_train, y_train)\n",
    "y_pred_rf = rf_model.predict(X_test)\n",
    "\n",
    "# --- Evaluation ---\n",
    "def evaluate_model(name, y_true, y_pred):\n",
    "    rmse = np.sqrt(mean_squared_error(y_true, y_pred))\n",
    "    r2 = r2_score(y_true, y_pred)\n",
    "    print(f\"{name} - RMSE: {rmse:.2f}, R²: {r2:.2f}\")\n",
    "\n",
    "evaluate_model(\"Linear Regression\", y_test, y_pred_lr)\n",
    "evaluate_model(\"Random Forest Regressor\", y_test, y_pred_rf)\n"
   ]
  },
  {
   "cell_type": "markdown",
   "id": "b6f6314f",
   "metadata": {},
   "source": [
    "Models Trained\n",
    "\n",
    "Linear Regression\n",
    "\n",
    "Random Forest Regressor\n",
    "\n",
    "Evaluation Results:\n",
    "Model\tRMSE\tR²\n",
    "Linear Regression\t2.38\t0.72\n",
    "Random Forest Regressor\t1.93\t0.82\n",
    " Interpretation:\n",
    "\n",
    "Random Forest Regressor outperformed Linear Regression on both RMSE and R²:\n",
    "\n",
    "Lower RMSE: Smaller average error between predicted and actual grades.\n",
    "\n",
    "Higher R²: Explains more of the variance in student grades.\n",
    "\n",
    "R² of 0.82 is strong, meaning the model explains 82% of the variation in final grades — a good result"
   ]
  },
  {
   "cell_type": "code",
   "execution_count": 26,
   "id": "b86b66b9",
   "metadata": {},
   "outputs": [
    {
     "data": {
      "image/png": "[encoded data removed]",
      "text/plain": [
       "<Figure size 1000x600 with 1 Axes>"
      ]
     },
     "metadata": {},
     "output_type": "display_data"
    }
   ],
   "source": [
    "# Residual Plot (for model diagnostics)\n",
    "# Shows how well the model is fitting the data — look for randomness (no patterns).\n",
    "import matplotlib.pyplot as plt\n",
    "import seaborn as sns\n",
    "\n",
    "residuals = y_test - y_pred_rf\n",
    "\n",
    "plt.figure(figsize=(10, 6))\n",
    "sns.scatterplot(x=y_pred_rf, y=residuals)\n",
    "plt.axhline(0, color='red', linestyle='--')\n",
    "plt.title('Residual Plot - Random Forest Regressor')\n",
    "plt.xlabel('Predicted G3')\n",
    "plt.ylabel('Residuals')\n",
    "plt.show()\n"
   ]
  },
  {
   "cell_type": "code",
   "execution_count": 27,
   "id": "0042bcf5",
   "metadata": {},
   "outputs": [
    {
     "data": {
      "image/png": "[encoded data removed]",
      "text/plain": [
       "<Figure size 1200x600 with 1 Axes>"
      ]
     },
     "metadata": {},
     "output_type": "display_data"
    }
   ],
   "source": [
    "#Feature Importance Plot (for explainability)\n",
    "# Feature Importance\n",
    "importances = rf_model.feature_importances_\n",
    "feature_names = X.columns\n",
    "feat_importance = pd.Series(importances, index=feature_names).sort_values(ascending=False)\n",
    "\n",
    "plt.figure(figsize=(12, 6))\n",
    "sns.barplot(x=feat_importance.values[:15], y=feat_importance.index[:15])\n",
    "plt.title(\"Top 15 Feature Importances - Random Forest Regressor\")\n",
    "plt.xlabel(\"Importance\")\n",
    "plt.ylabel(\"Feature\")\n",
    "plt.show()\n"
   ]
  },
  {
   "cell_type": "markdown",
   "id": "bf58d27f",
   "metadata": {},
   "source": [
    "##  Conclusion\n",
    "\n",
    "- The **Random Forest Regressor** performed significantly better than Linear Regression with an RMSE of 1.93 and R² of 0.82.\n",
    "- The most important features for predicting final grades included `G2`, `G1`, `studytime`, `failures`, and `absences`.\n",
    "- This confirms that prior grades and study habits are strong indicators of final performance.\n",
    "- **Next steps** could include:\n",
    "  - Hyperparameter tuning for better accuracy\n",
    "  - Cross-validation for robust performance estimation\n",
    "  - Experimenting with ensemble models like XGBoost or Gradient Boosting\n"
   ]
  },
  {
   "cell_type": "markdown",
   "id": "83dfc8f6",
   "metadata": {},
   "source": [
    "## 5. Evaluation"
   ]
  },
  {
   "cell_type": "code",
   "execution_count": 14,
   "id": "2ebd1b9c",
   "metadata": {},
   "outputs": [
    {
     "name": "stdout",
     "output_type": "stream",
     "text": [
      "Logistic Regression:\n",
      "Accuracy: 0.34177215189873417\n",
      "F1 Score: 0.3159877541956156\n"
     ]
    }
   ],
   "source": [
    "print(\"Logistic Regression:\")\n",
    "print(\"Accuracy:\", accuracy_score(y_test, y_pred_log))\n",
    "print(\"F1 Score:\", f1_score(y_test, y_pred_log, average='weighted'))\n",
    "\n"
   ]
  },
  {
   "cell_type": "markdown",
   "id": "3a7f8cd4",
   "metadata": {},
   "source": [
    "Classification Metrics"
   ]
  },
  {
   "cell_type": "markdown",
   "id": "6b333f11",
   "metadata": {},
   "source": [
    "compare the results between Logistic Regression and Decision Tree"
   ]
  },
  {
   "cell_type": "code",
   "execution_count": 15,
   "id": "3532cbef",
   "metadata": {},
   "outputs": [
    {
     "name": "stdout",
     "output_type": "stream",
     "text": [
      "Logistic Regression:\n",
      "Accuracy: 0.3418\n",
      "F1 Score: 0.3160\n",
      "Classification Report:\n",
      "              precision    recall  f1-score   support\n",
      "\n",
      "           0       0.14      0.20      0.17         5\n",
      "           5       0.00      0.00      0.00         4\n",
      "           6       0.67      0.33      0.44         6\n",
      "           7       0.00      0.00      0.00         1\n",
      "           8       0.31      0.67      0.42         6\n",
      "           9       1.00      0.20      0.33         5\n",
      "          10       0.62      0.73      0.67        11\n",
      "          11       0.22      0.40      0.29         5\n",
      "          12       0.00      0.00      0.00         5\n",
      "          13       0.33      0.20      0.25         5\n",
      "          14       0.25      0.33      0.29         6\n",
      "          15       0.44      0.40      0.42        10\n",
      "          16       0.25      0.25      0.25         4\n",
      "          17       0.00      0.00      0.00         3\n",
      "          18       0.20      1.00      0.33         1\n",
      "          19       0.00      0.00      0.00         2\n",
      "\n",
      "    accuracy                           0.34        79\n",
      "   macro avg       0.28      0.29      0.24        79\n",
      "weighted avg       0.36      0.34      0.32        79\n",
      "\n",
      "\n",
      "Decision Tree Classifier:\n",
      "Accuracy: 0.3671\n",
      "F1 Score: 0.3509\n",
      "Classification Report:\n",
      "              precision    recall  f1-score   support\n",
      "\n",
      "           0       0.60      0.60      0.60         5\n",
      "           4       0.00      0.00      0.00         0\n",
      "           5       0.67      0.50      0.57         4\n",
      "           6       0.33      0.17      0.22         6\n",
      "           7       0.00      0.00      0.00         1\n",
      "           8       0.18      0.33      0.24         6\n",
      "           9       0.33      0.20      0.25         5\n",
      "          10       0.60      0.55      0.57        11\n",
      "          11       0.33      0.60      0.43         5\n",
      "          12       0.00      0.00      0.00         5\n",
      "          13       0.00      0.00      0.00         5\n",
      "          14       0.44      0.67      0.53         6\n",
      "          15       0.44      0.40      0.42        10\n",
      "          16       0.25      0.25      0.25         4\n",
      "          17       0.00      0.00      0.00         3\n",
      "          18       0.00      0.00      0.00         1\n",
      "          19       0.67      1.00      0.80         2\n",
      "          20       0.00      0.00      0.00         0\n",
      "\n",
      "    accuracy                           0.37        79\n",
      "   macro avg       0.27      0.29      0.27        79\n",
      "weighted avg       0.36      0.37      0.35        79\n",
      "\n"
     ]
    },
    {
     "name": "stderr",
     "output_type": "stream",
     "text": [
      "/home/codespace/.local/lib/python3.12/site-packages/sklearn/metrics/_classification.py:1706: UndefinedMetricWarning: Precision is ill-defined and being set to 0.0 in labels with no predicted samples. Use `zero_division` parameter to control this behavior.\n",
      "  _warn_prf(average, modifier, f\"{metric.capitalize()} is\", result.shape[0])\n",
      "/home/codespace/.local/lib/python3.12/site-packages/sklearn/metrics/_classification.py:1706: UndefinedMetricWarning: Precision is ill-defined and being set to 0.0 in labels with no predicted samples. Use `zero_division` parameter to control this behavior.\n",
      "  _warn_prf(average, modifier, f\"{metric.capitalize()} is\", result.shape[0])\n",
      "/home/codespace/.local/lib/python3.12/site-packages/sklearn/metrics/_classification.py:1706: UndefinedMetricWarning: Precision is ill-defined and being set to 0.0 in labels with no predicted samples. Use `zero_division` parameter to control this behavior.\n",
      "  _warn_prf(average, modifier, f\"{metric.capitalize()} is\", result.shape[0])\n",
      "/home/codespace/.local/lib/python3.12/site-packages/sklearn/metrics/_classification.py:1706: UndefinedMetricWarning: Precision is ill-defined and being set to 0.0 in labels with no predicted samples. Use `zero_division` parameter to control this behavior.\n",
      "  _warn_prf(average, modifier, f\"{metric.capitalize()} is\", result.shape[0])\n",
      "/home/codespace/.local/lib/python3.12/site-packages/sklearn/metrics/_classification.py:1706: UndefinedMetricWarning: Recall is ill-defined and being set to 0.0 in labels with no true samples. Use `zero_division` parameter to control this behavior.\n",
      "  _warn_prf(average, modifier, f\"{metric.capitalize()} is\", result.shape[0])\n",
      "/home/codespace/.local/lib/python3.12/site-packages/sklearn/metrics/_classification.py:1706: UndefinedMetricWarning: Precision is ill-defined and being set to 0.0 in labels with no predicted samples. Use `zero_division` parameter to control this behavior.\n",
      "  _warn_prf(average, modifier, f\"{metric.capitalize()} is\", result.shape[0])\n",
      "/home/codespace/.local/lib/python3.12/site-packages/sklearn/metrics/_classification.py:1706: UndefinedMetricWarning: Recall is ill-defined and being set to 0.0 in labels with no true samples. Use `zero_division` parameter to control this behavior.\n",
      "  _warn_prf(average, modifier, f\"{metric.capitalize()} is\", result.shape[0])\n",
      "/home/codespace/.local/lib/python3.12/site-packages/sklearn/metrics/_classification.py:1706: UndefinedMetricWarning: Precision is ill-defined and being set to 0.0 in labels with no predicted samples. Use `zero_division` parameter to control this behavior.\n",
      "  _warn_prf(average, modifier, f\"{metric.capitalize()} is\", result.shape[0])\n",
      "/home/codespace/.local/lib/python3.12/site-packages/sklearn/metrics/_classification.py:1706: UndefinedMetricWarning: Recall is ill-defined and being set to 0.0 in labels with no true samples. Use `zero_division` parameter to control this behavior.\n",
      "  _warn_prf(average, modifier, f\"{metric.capitalize()} is\", result.shape[0])\n"
     ]
    }
   ],
   "source": [
    "from sklearn.metrics import accuracy_score, f1_score, confusion_matrix, classification_report\n",
    "\n",
    "# Logistic Regression metrics\n",
    "acc_log = accuracy_score(y_test, y_pred_log)\n",
    "f1_log = f1_score(y_test, y_pred_log, average='weighted')  # or 'macro'\n",
    "\n",
    "# Decision Tree metrics\n",
    "acc_tree = accuracy_score(y_test, y_pred_tree)\n",
    "f1_tree = f1_score(y_test, y_pred_tree, average='weighted')\n",
    "\n",
    "print(\"Logistic Regression:\")\n",
    "print(f\"Accuracy: {acc_log:.4f}\")\n",
    "print(f\"F1 Score: {f1_log:.4f}\")\n",
    "print(\"Classification Report:\")\n",
    "print(classification_report(y_test, y_pred_log))\n",
    "\n",
    "print(\"\\nDecision Tree Classifier:\")\n",
    "print(f\"Accuracy: {acc_tree:.4f}\")\n",
    "print(f\"F1 Score: {f1_tree:.4f}\")\n",
    "print(\"Classification Report:\")\n",
    "print(classification_report(y_test, y_pred_tree))\n"
   ]
  },
  {
   "cell_type": "code",
   "execution_count": 17,
   "id": "a75b0912",
   "metadata": {},
   "outputs": [
    {
     "data": {
      "image/png": "[encoded data removed]",
      "text/plain": [
       "<Figure size 1200x500 with 4 Axes>"
      ]
     },
     "metadata": {},
     "output_type": "display_data"
    }
   ],
   "source": [
    "import matplotlib.pyplot as plt\n",
    "import seaborn as sns\n",
    "\n",
    "cm_log = confusion_matrix(y_test, y_pred_log)\n",
    "cm_tree = confusion_matrix(y_test, y_pred_tree)\n",
    "\n",
    "fig, axes = plt.subplots(1, 2, figsize=(12,5))\n",
    "\n",
    "sns.heatmap(cm_log, annot=True, fmt='d', ax=axes[0], cmap='Blues')\n",
    "axes[0].set_title('Logistic Regression Confusion Matrix')\n",
    "axes[0].set_xlabel('Predicted')\n",
    "axes[0].set_ylabel('Actual')\n",
    "\n",
    "sns.heatmap(cm_tree, annot=True, fmt='d', ax=axes[1], cmap='Greens')\n",
    "axes[1].set_title('Decision Tree Confusion Matrix')\n",
    "axes[1].set_xlabel('Predicted')\n",
    "axes[1].set_ylabel('Actual')\n",
    "\n",
    "plt.show()\n"
   ]
  },
  {
   "cell_type": "markdown",
   "id": "4b89bb30",
   "metadata": {},
   "source": [
    "Key observations:\n",
    "Logistic Regression:\n",
    "Seems to have more clear diagonals in some classes (e.g., class 6 has 8 correct predictions).\n",
    "\n",
    "Some classes (e.g., 0, 1, 2) have more misclassifications.\n",
    "\n",
    "The overall prediction is somewhat sparse, but the model tends to predict fewer classes confidently.\n",
    "\n",
    "Decision Tree:\n",
    "Also has correct predictions across multiple classes, but the distribution is slightly different.\n",
    "\n",
    "Some classes have better true positive counts than Logistic Regression (e.g., class 0 predicted 3 correctly vs 1 for Logistic Regression).\n",
    "\n",
    "More scattered predictions, possibly indicating overfitting or more complexity."
   ]
  },
  {
   "cell_type": "markdown",
   "id": "02b523b7",
   "metadata": {},
   "source": [
    " Calculate overall metrics:\n",
    "\n",
    "\n"
   ]
  },
  {
   "cell_type": "code",
   "execution_count": 18,
   "id": "c11d327a",
   "metadata": {},
   "outputs": [
    {
     "name": "stdout",
     "output_type": "stream",
     "text": [
      "Logistic Regression Accuracy: 0.34177215189873417\n",
      "Decision Tree Accuracy: 0.3670886075949367\n",
      "Logistic Regression F1 Score: 0.3159877541956156\n",
      "Decision Tree F1 Score: 0.35088493758596045\n"
     ]
    }
   ],
   "source": [
    "from sklearn.metrics import accuracy_score, f1_score\n",
    "\n",
    "print(\"Logistic Regression Accuracy:\", accuracy_score(y_test, y_pred_log))\n",
    "print(\"Decision Tree Accuracy:\", accuracy_score(y_test, y_pred_tree))\n",
    "\n",
    "print(\"Logistic Regression F1 Score:\", f1_score(y_test, y_pred_log, average='weighted'))\n",
    "print(\"Decision Tree F1 Score:\", f1_score(y_test, y_pred_tree, average='weighted'))"
   ]
  },
  {
   "cell_type": "code",
   "execution_count": 19,
   "id": "4cc4fc95",
   "metadata": {},
   "outputs": [
    {
     "name": "stdout",
     "output_type": "stream",
     "text": [
      "Logistic Regression Report:\n",
      "               precision    recall  f1-score   support\n",
      "\n",
      "           0       0.14      0.20      0.17         5\n",
      "           5       0.00      0.00      0.00         4\n",
      "           6       0.67      0.33      0.44         6\n",
      "           7       0.00      0.00      0.00         1\n",
      "           8       0.31      0.67      0.42         6\n",
      "           9       1.00      0.20      0.33         5\n",
      "          10       0.62      0.73      0.67        11\n",
      "          11       0.22      0.40      0.29         5\n",
      "          12       0.00      0.00      0.00         5\n",
      "          13       0.33      0.20      0.25         5\n",
      "          14       0.25      0.33      0.29         6\n",
      "          15       0.44      0.40      0.42        10\n",
      "          16       0.25      0.25      0.25         4\n",
      "          17       0.00      0.00      0.00         3\n",
      "          18       0.20      1.00      0.33         1\n",
      "          19       0.00      0.00      0.00         2\n",
      "\n",
      "    accuracy                           0.34        79\n",
      "   macro avg       0.28      0.29      0.24        79\n",
      "weighted avg       0.36      0.34      0.32        79\n",
      "\n",
      "Decision Tree Report:\n",
      "               precision    recall  f1-score   support\n",
      "\n",
      "           0       0.60      0.60      0.60         5\n",
      "           4       0.00      0.00      0.00         0\n",
      "           5       0.67      0.50      0.57         4\n",
      "           6       0.33      0.17      0.22         6\n",
      "           7       0.00      0.00      0.00         1\n",
      "           8       0.18      0.33      0.24         6\n",
      "           9       0.33      0.20      0.25         5\n",
      "          10       0.60      0.55      0.57        11\n",
      "          11       0.33      0.60      0.43         5\n",
      "          12       0.00      0.00      0.00         5\n",
      "          13       0.00      0.00      0.00         5\n",
      "          14       0.44      0.67      0.53         6\n",
      "          15       0.44      0.40      0.42        10\n",
      "          16       0.25      0.25      0.25         4\n",
      "          17       0.00      0.00      0.00         3\n",
      "          18       0.00      0.00      0.00         1\n",
      "          19       0.67      1.00      0.80         2\n",
      "          20       0.00      0.00      0.00         0\n",
      "\n",
      "    accuracy                           0.37        79\n",
      "   macro avg       0.27      0.29      0.27        79\n",
      "weighted avg       0.36      0.37      0.35        79\n",
      "\n"
     ]
    },
    {
     "name": "stderr",
     "output_type": "stream",
     "text": [
      "/home/codespace/.local/lib/python3.12/site-packages/sklearn/metrics/_classification.py:1706: UndefinedMetricWarning: Precision is ill-defined and being set to 0.0 in labels with no predicted samples. Use `zero_division` parameter to control this behavior.\n",
      "  _warn_prf(average, modifier, f\"{metric.capitalize()} is\", result.shape[0])\n",
      "/home/codespace/.local/lib/python3.12/site-packages/sklearn/metrics/_classification.py:1706: UndefinedMetricWarning: Precision is ill-defined and being set to 0.0 in labels with no predicted samples. Use `zero_division` parameter to control this behavior.\n",
      "  _warn_prf(average, modifier, f\"{metric.capitalize()} is\", result.shape[0])\n",
      "/home/codespace/.local/lib/python3.12/site-packages/sklearn/metrics/_classification.py:1706: UndefinedMetricWarning: Precision is ill-defined and being set to 0.0 in labels with no predicted samples. Use `zero_division` parameter to control this behavior.\n",
      "  _warn_prf(average, modifier, f\"{metric.capitalize()} is\", result.shape[0])\n",
      "/home/codespace/.local/lib/python3.12/site-packages/sklearn/metrics/_classification.py:1706: UndefinedMetricWarning: Precision is ill-defined and being set to 0.0 in labels with no predicted samples. Use `zero_division` parameter to control this behavior.\n",
      "  _warn_prf(average, modifier, f\"{metric.capitalize()} is\", result.shape[0])\n",
      "/home/codespace/.local/lib/python3.12/site-packages/sklearn/metrics/_classification.py:1706: UndefinedMetricWarning: Recall is ill-defined and being set to 0.0 in labels with no true samples. Use `zero_division` parameter to control this behavior.\n",
      "  _warn_prf(average, modifier, f\"{metric.capitalize()} is\", result.shape[0])\n",
      "/home/codespace/.local/lib/python3.12/site-packages/sklearn/metrics/_classification.py:1706: UndefinedMetricWarning: Precision is ill-defined and being set to 0.0 in labels with no predicted samples. Use `zero_division` parameter to control this behavior.\n",
      "  _warn_prf(average, modifier, f\"{metric.capitalize()} is\", result.shape[0])\n",
      "/home/codespace/.local/lib/python3.12/site-packages/sklearn/metrics/_classification.py:1706: UndefinedMetricWarning: Recall is ill-defined and being set to 0.0 in labels with no true samples. Use `zero_division` parameter to control this behavior.\n",
      "  _warn_prf(average, modifier, f\"{metric.capitalize()} is\", result.shape[0])\n",
      "/home/codespace/.local/lib/python3.12/site-packages/sklearn/metrics/_classification.py:1706: UndefinedMetricWarning: Precision is ill-defined and being set to 0.0 in labels with no predicted samples. Use `zero_division` parameter to control this behavior.\n",
      "  _warn_prf(average, modifier, f\"{metric.capitalize()} is\", result.shape[0])\n",
      "/home/codespace/.local/lib/python3.12/site-packages/sklearn/metrics/_classification.py:1706: UndefinedMetricWarning: Recall is ill-defined and being set to 0.0 in labels with no true samples. Use `zero_division` parameter to control this behavior.\n",
      "  _warn_prf(average, modifier, f\"{metric.capitalize()} is\", result.shape[0])\n"
     ]
    }
   ],
   "source": [
    "from sklearn.metrics import classification_report\n",
    "\n",
    "print(\"Logistic Regression Report:\\n\", classification_report(y_test, y_pred_log))\n",
    "print(\"Decision Tree Report:\\n\", classification_report(y_test, y_pred_tree))\n"
   ]
  },
  {
   "cell_type": "markdown",
   "id": "127b6823",
   "metadata": {},
   "source": [
    "### Model Performance Evaluation\n",
    "\n",
    "#### 1. Understanding the Metrics\n",
    "\n",
    "| Metric        | Meaning                                                                 |\n",
    "| ------------- | ----------------------------------------------------------------------- |\n",
    "| **Precision** | Of all the predicted instances of a class, how many were correct.       |\n",
    "| **Recall**    | Of all the actual instances of a class, how many did we correctly find. |\n",
    "| **F1-Score**  | Harmonic mean of precision and recall — balances the two.               |\n",
    "| **Support**   | Number of actual samples for each class in the test data.               |\n",
    "\n",
    "Each metric is reported per class (grades 0 to 19), followed by overall averages.\n",
    "\n",
    "---\n",
    "\n",
    "#### 2. Logistic Regression Report\n",
    "\n",
    "* **Accuracy**: `0.34`\n",
    "* **Macro Avg F1-Score**: `0.25`\n",
    "* **Weighted Avg F1-Score**: `0.32`\n",
    "\n",
    "Some observations:\n",
    "\n",
    "* The model performs moderately for some classes like `6`, `10`, and `15` (F1-scores around `0.40–0.64`).\n",
    "* For classes like `5`, `7`, `17`, and `19`, the F1-score is `0.00`, meaning zero correct predictions.\n",
    "* Imbalanced class distribution likely contributed to these poor results.\n",
    "\n",
    "---\n",
    "\n",
    "#### 3. Decision Tree Report\n",
    "\n",
    "* **Accuracy**: `0.38`\n",
    "* **Macro Avg F1-Score**: `0.31`\n",
    "* **Weighted Avg F1-Score**: `0.37`\n",
    "\n",
    "Highlights:\n",
    "\n",
    "* Performance is slightly better than logistic regression.\n",
    "* Better coverage across more classes.\n",
    "* Still limited by the same challenges (imbalanced data, small support per class).\n",
    "\n",
    "---\n",
    "\n",
    "#### 4. Comparison Summary\n",
    "\n",
    "| Metric             | Logistic Regression | Decision Tree |\n",
    "| ------------------ | ------------------- | ------------- |\n",
    "| Accuracy           | 0.34                | **0.38**      |\n",
    "| Macro Avg F1-Score | 0.25                | **0.31**      |\n",
    "| Weighted Avg F1    | 0.32                | **0.37**      |\n",
    "\n",
    "Decision Tree slightly outperforms Logistic Regression in this task.\n",
    "\n",
    "---\n",
    "\n",
    "#### 5. Recommendations\n",
    "\n",
    "To improve performance:\n",
    "\n",
    "* Reduce the number of target classes (e.g., group final grades into fewer bins like A/B/C/D).\n",
    "* Feature selection: Remove irrelevant features or apply PCA.\n",
    "* Handle class imbalance using techniques like SMOTE or oversampling.\n",
    "* Try more complex models such as Random Forests or Gradient Boosted Trees.\n",
    "* Clean and preprocess categorical variables more thoroughly.\n"
   ]
  },
  {
   "cell_type": "markdown",
   "id": "1003fca8",
   "metadata": {},
   "source": [
    "---\n",
    "\n",
    "##  8. Workload Assignment\n",
    "\n",
    "- **Sukhmani Thukral**: Abstract, Powerpoint  \n",
    "- **Puqi Liu**: Literature Review, Formatting and Editing  \n",
    "- **Jheyne de Oliveira Panta Cardeiro**: Methodology, References  \n",
    "\n",
    "---\n",
    "\n",
    "##  9. References\n",
    "\n",
    "[1] Cortez, P., & Silva, A. (2008). *Using Data Mining to Predict Secondary School Student Performance*. UCI Machine Learning Repository.  \n",
    "https://archive.ics.uci.edu/ml/datasets/student+performance\n",
    "\n",
    "[2] Rothman, D. (2020). *Artificial Intelligence by Example: Acquire Advanced AI, Machine Learning, and Deep Learning Design Skills* (2nd ed.). Packt Publishing.\n",
    "\n",
    "[3] Hurbans, R. (2020). *Grokking Artificial Intelligence Algorithms* (1st ed.). Manning Publications.\n",
    "\n",
    "[4] Scikit-learn Developers. (n.d.). *Clustering: K-means Clustering*. Scikit-learn.  \n",
    "https://scikit-learn.org/stable/modules/clustering.html#k-means\n",
    "\n",
    "[5] Jupyter Notebook Gallery – Scikit-learn. (n.d.). *Clustering Performance Evaluation*.  \n",
    "https://scikit-learn.org/stable/auto_examples/cluster/plot_adjusted_for_chance_measures.html\n",
    "\n",
    "[6] James, G., Witten, D., Hastie, T., & Tibshirani, R. (2013). *An Introduction to Statistical Learning: With Applications in R*. Springer.  \n",
    "https://link.springer.com/book/10.1007/978-1-4614-7138-7\n",
    "\n",
    "[7] Tan, P.-N., Steinbach, M., Karpatne, A., & Kumar, V. (2018). *Introduction to Data Mining* (2nd ed.). Pearson.  \n",
    "https://www.pearson.com/en-us/subject-catalog/p/introduction-to-data-mining/P200000003053\n",
    "\n",
    "[8] Cortez, P., & Silva, A. (2008). Using Data Mining to Predict Secondary School Student Performance. *University of Minho*.\n",
    "- Kotsiantis, S. B. (2012). Use of machine learning techniques for educational proposals: A case study. *International Journal of Artificial Intelligence and Applications*, 3(2), 17–26.\n",
    "[9] Han, J., Kamber, M., & Pei, J. (2011). *Data Mining: Concepts and Techniques*. Elsevier.\n",
    "- Asif, R., Merceron, A., Ali, S. A., & Haider, N. G. (2017). Analyzing undergraduate students' performance using educational data mining. *Computers & Education*, 113, 177–194.\n",
    "[10] Al-Barrak, M. A., & Al-Razgan, M. (2016). Predicting students final GPA using decision trees: A case study. *International Journal of Information and Education Technology*, 6(7), 528–533.\n",
    "[11] Kumar, V., & Pal, S. (2011). Data mining: A prediction for performance improvement using classification. *International Journal of Computer Science and Information Security*, 9(4), 136–140."
   ]
  }
 ],
 "metadata": {
  "kernelspec": {
   "display_name": "Python 3",
   "language": "python",
   "name": "python3"
  },
  "language_info": {
   "codemirror_mode": {
    "name": "ipython",
    "version": 3
   },
   "file_extension": ".py",
   "mimetype": "text/x-python",
   "name": "python",
   "nbconvert_exporter": "python",
   "pygments_lexer": "ipython3",
   "version": "3.12.1"
  }
 },
 "nbformat": 4,
 "nbformat_minor": 5
}
